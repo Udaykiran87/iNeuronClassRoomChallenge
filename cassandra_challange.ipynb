{
 "cells": [
  {
   "cell_type": "code",
   "execution_count": 31,
   "metadata": {},
   "outputs": [
    {
     "name": "stdout",
     "output_type": "stream",
     "text": [
      "4.0.0.6811\n"
     ]
    }
   ],
   "source": [
    "from cassandra.cluster import Cluster\n",
    "from cassandra.auth import PlainTextAuthProvider\n",
    "\n",
    "cloud_config= {\n",
    "        'secure_connect_bundle': 'C:\\\\iNeuronClass\\\\python\\\\22052021\\\\secure-connect-test2.zip'\n",
    "}\n",
    "auth_provider = PlainTextAuthProvider('OgIPRCakZCmxWlhnciKruaqR', 'r2NRv1vZIwoyfjH2idXSRwWZNZnSpwpxE1khQWAQMTj20OtpMj0tC0JMozEY7_n2_XWroSoksG-hiU1Mw5zAnZokcP4j+KGE7a7Kh-igHAAWiAQUiWPqCfQC_,h5gL9c')\n",
    "cluster = Cluster(cloud=cloud_config, auth_provider=auth_provider)\n",
    "session = cluster.connect()\n",
    "\n",
    "row = session.execute(\"select release_version from system.local\").one()\n",
    "if row:\n",
    "    print(row[0])\n",
    "else:\n",
    "    print(\"An error occurred.\")"
   ]
  },
  {
   "cell_type": "code",
   "execution_count": 32,
   "metadata": {},
   "outputs": [
    {
     "data": {
      "text/plain": [
       "<cassandra.metadata.KeyspaceMetadata at 0x1bd95bb1c88>"
      ]
     },
     "execution_count": 32,
     "metadata": {},
     "output_type": "execute_result"
    }
   ],
   "source": [
    "cluster.metadata.keyspaces['ineuron3']"
   ]
  },
  {
   "cell_type": "code",
   "execution_count": 34,
   "metadata": {},
   "outputs": [],
   "source": [
    "session.execute(\" CREATE TABLE ineuron3.cricket_team(name text PRIMARY KEY,captain text,last_wc_title varint,wc_winning_captain text,total_title varint);\").one()"
   ]
  },
  {
   "cell_type": "code",
   "execution_count": 35,
   "metadata": {},
   "outputs": [
    {
     "data": {
      "text/plain": [
       "Row(name='India', captain='Virat Kohli', last_wc_title=2011, total_title=2, wc_winning_captain='MS Dhoni')"
      ]
     },
     "execution_count": 35,
     "metadata": {},
     "output_type": "execute_result"
    }
   ],
   "source": [
    "session.execute(\"\"\"INSERT INTO ineuron3.cricket_team (name,captain,last_wc_title,wc_winning_captain,total_title) VALUES (%s, %s, %s,%s,%s)\"\"\",(\"India\", \"Virat Kohli\", 2011,\"MS Dhoni\",2)).one()\n",
    "session.execute(\"\"\"select *from ineuron3.cricket_team\"\"\").one()"
   ]
  },
  {
   "cell_type": "code",
   "execution_count": 38,
   "metadata": {},
   "outputs": [],
   "source": [
    "session.execute(\"\"\"INSERT INTO ineuron3.cricket_team (name,captain,last_wc_title,wc_winning_captain,total_title) VALUES (%s, %s, %s,%s,%s)\"\"\",(\"India\", \"Virat Kohli\", 2011,\"MS Dhoni\",2)).one()\n",
    "session.execute(\"\"\"INSERT INTO ineuron3.cricket_team (name,captain,last_wc_title,wc_winning_captain,total_title) VALUES (%s, %s, %s,%s,%s)\"\"\",(\"Australia\", \"Aron Finch\", 2015,\"Michal Clark\",3)).one()\n",
    "session.execute(\"\"\"INSERT INTO ineuron3.cricket_team (name,captain,last_wc_title,wc_winning_captain,total_title) VALUES (%s, %s, %s,%s,%s)\"\"\",(\"England\", \"Eoin Morgan\", 2019,\"Eoin Morgan\",1)).one()\n",
    "session.execute(\"\"\"INSERT INTO ineuron3.cricket_team (name,captain,last_wc_title,wc_winning_captain,total_title) VALUES (%s, %s, %s,%s,%s)\"\"\",(\"West Indies\", \"Kraigg Brathwaite\", 1979,\"Clive Lloyd\",2)).one()\n",
    "session.execute(\"\"\"INSERT INTO ineuron3.cricket_team (name,captain,last_wc_title,wc_winning_captain,total_title) VALUES (%s, %s, %s,%s,%s)\"\"\",(\"Sri Lanka\", \"Dimuth Karunaratne\", 1996,\"Ranatunga\",1)).one()\n",
    "session.execute(\"\"\"INSERT INTO ineuron3.cricket_team (name,captain,last_wc_title,wc_winning_captain,total_title) VALUES (%s, %s, %s,%s,%s)\"\"\",(\"Pakistan\", \"Babar Azam\", 1992,\"Imran Khan\",1)).one()\n"
   ]
  },
  {
   "cell_type": "code",
   "execution_count": 39,
   "metadata": {},
   "outputs": [],
   "source": [
    "row = session.execute(\"\"\"select *from ineuron3.cricket_team\"\"\").one()"
   ]
  },
  {
   "cell_type": "code",
   "execution_count": 40,
   "metadata": {},
   "outputs": [
    {
     "data": {
      "text/plain": [
       "['Sri Lanka', 'Dimuth Karunaratne', 1996, 1, 'Ranatunga']"
      ]
     },
     "execution_count": 40,
     "metadata": {},
     "output_type": "execute_result"
    }
   ],
   "source": [
    "data = [i for i in row]\n",
    "data"
   ]
  },
  {
   "cell_type": "code",
   "execution_count": 41,
   "metadata": {},
   "outputs": [
    {
     "name": "stdout",
     "output_type": "stream",
     "text": [
      "Row(name='Sri Lanka', captain='Dimuth Karunaratne', last_wc_title=1996, total_title=1, wc_winning_captain='Ranatunga')\n"
     ]
    }
   ],
   "source": [
    "print(row)"
   ]
  },
  {
   "cell_type": "raw",
   "metadata": {},
   "source": [
    "token@cqlsh:ineuron2> select *from ineuron2.cricket_team;\n",
    "\n",
    " name        | captain            | last_wc_title | wc_winning_captain\n",
    "-------------+--------------------+---------------+--------------------\n",
    "   Sri Lanka | Dimuth Karunaratne |          1996 |          Ranatunga\n",
    " West Indies |  Kraigg Brathwaite |          1979 |        Clive Lloyd\n",
    "       India |        Virat Kohli |          2011 |           MS Dhoni\n",
    "     England |        Eoin Morgan |          2019 |        Eoin Morgan\n",
    "    Pakistan |         Babar Azam |          1992 |         Imran Khan\n",
    "   Australia |         Aron Finch |          2015 |       Michal Clark"
   ]
  },
  {
   "cell_type": "code",
   "execution_count": 52,
   "metadata": {},
   "outputs": [
    {
     "name": "stdout",
     "output_type": "stream",
     "text": [
      "Row(name='Sri Lanka', captain='Dimuth Karunaratne', last_wc_title=1996, total_title=1, wc_winning_captain='Ranatunga')\n",
      "Row(name='West Indies', captain='Kraigg Brathwaite', last_wc_title=1979, total_title=2, wc_winning_captain='Clive Lloyd')\n",
      "Row(name='India', captain='Mahendra Singh Dhoni', last_wc_title=2011, total_title=2, wc_winning_captain='MS Dhoni')\n",
      "Row(name='England', captain='Eoin Morgan', last_wc_title=2019, total_title=1, wc_winning_captain='Eoin Morgan')\n",
      "Row(name='Australia', captain='Aron Finch', last_wc_title=2015, total_title=3, wc_winning_captain='Michal Clark')\n"
     ]
    }
   ],
   "source": [
    "rows=session.execute(\"\"\"select *from ineuron3.cricket_team;\"\"\")\n",
    "for row in rows:\n",
    "    print(row)"
   ]
  },
  {
   "cell_type": "code",
   "execution_count": 53,
   "metadata": {},
   "outputs": [
    {
     "name": "stdout",
     "output_type": "stream",
     "text": [
      "name: Sri Lanka captain: Dimuth Karunaratne last_wc_title: 1996 wc_winning_captain: 1 total_title: Ranatunga\n",
      "name: West Indies captain: Kraigg Brathwaite last_wc_title: 1979 wc_winning_captain: 2 total_title: Clive Lloyd\n",
      "name: India captain: Mahendra Singh Dhoni last_wc_title: 2011 wc_winning_captain: 2 total_title: MS Dhoni\n",
      "name: England captain: Eoin Morgan last_wc_title: 2019 wc_winning_captain: 1 total_title: Eoin Morgan\n",
      "name: Australia captain: Aron Finch last_wc_title: 2015 wc_winning_captain: 3 total_title: Michal Clark\n"
     ]
    }
   ],
   "source": [
    "rows=session.execute(\"\"\"select *from ineuron3.cricket_team;\"\"\")\n",
    "for row in rows:\n",
    "    print ('name: {} captain: {} last_wc_title: {} wc_winning_captain: {} total_title: {}'.format(row[0],row[1], row[2], row[3], row[4]))"
   ]
  },
  {
   "cell_type": "code",
   "execution_count": 54,
   "metadata": {},
   "outputs": [
    {
     "name": "stdout",
     "output_type": "stream",
     "text": [
      "name: India captain: Mahendra Singh Dhoni last_wc_title: 2011 wc_winning_captain: 2 total_title: MS Dhoni\n"
     ]
    }
   ],
   "source": [
    "rows=session.execute(\"select * from ineuron3.cricket_team WHERE name = 'India';\")\n",
    "for row in rows:\n",
    "     print ('name: {} captain: {} last_wc_title: {} wc_winning_captain: {} total_title: {}'.format(row[0],row[1], row[2], row[3], row[4]))"
   ]
  },
  {
   "cell_type": "code",
   "execution_count": 55,
   "metadata": {},
   "outputs": [
    {
     "name": "stdout",
     "output_type": "stream",
     "text": [
      "name: England captain: Eoin Morgan last_wc_title: 2019 wc_winning_captain: 1 total_title: Eoin Morgan\n"
     ]
    }
   ],
   "source": [
    "rows=session.execute(\"select * from ineuron3.cricket_team WHERE captain = 'Eoin Morgan' ALLOW FILTERING;\")\n",
    "for row in rows:\n",
    "    print ('name: {} captain: {} last_wc_title: {} wc_winning_captain: {} total_title: {}'.format(row[0],row[1], row[2], row[3], row[4]))"
   ]
  },
  {
   "cell_type": "code",
   "execution_count": 56,
   "metadata": {},
   "outputs": [
    {
     "name": "stdout",
     "output_type": "stream",
     "text": [
      "name: Sri Lanka captain: Dimuth Karunaratne last_wc_title: 1996 wc_winning_captain: 1 total_title: Ranatunga\n",
      "name: West Indies captain: Kraigg Brathwaite last_wc_title: 1979 wc_winning_captain: 2 total_title: Clive Lloyd\n",
      "name: India captain: Mahendra Singh Dhoni last_wc_title: 2011 wc_winning_captain: 2 total_title: MS Dhoni\n"
     ]
    }
   ],
   "source": [
    "rows=session.execute(\"select * from ineuron3.cricket_team limit 3;\")\n",
    "for row in rows:\n",
    "     print ('name: {} captain: {} last_wc_title: {} wc_winning_captain: {} total_title: {}'.format(row[0],row[1], row[2], row[3], row[4]))"
   ]
  },
  {
   "cell_type": "code",
   "execution_count": 57,
   "metadata": {},
   "outputs": [
    {
     "name": "stdout",
     "output_type": "stream",
     "text": [
      "name: India captain: Mahendra Singh Dhoni last_wc_title: 2011 wc_winning_captain: 2 total_title: MS Dhoni\n",
      "name: England captain: Eoin Morgan last_wc_title: 2019 wc_winning_captain: 1 total_title: Eoin Morgan\n",
      "name: Australia captain: Aron Finch last_wc_title: 2015 wc_winning_captain: 3 total_title: Michal Clark\n"
     ]
    }
   ],
   "source": [
    "rows=session.execute(\"select * from ineuron3.cricket_team where last_wc_title>2000 ALLOW FILTERING;\")\n",
    "for row in rows:\n",
    "    print ('name: {} captain: {} last_wc_title: {} wc_winning_captain: {} total_title: {}'.format(row[0],row[1], row[2], row[3], row[4]))"
   ]
  },
  {
   "cell_type": "code",
   "execution_count": 58,
   "metadata": {},
   "outputs": [
    {
     "name": "stdout",
     "output_type": "stream",
     "text": [
      "name: India captain: Mahendra Singh Dhoni last_wc_title: 2011 wc_winning_captain: 2 total_title: MS Dhoni\n"
     ]
    }
   ],
   "source": [
    "session.execute(\"update ineuron3.cricket_team set captain = 'Mahendra Singh Dhoni' where name = 'India';\")\n",
    "rows=session.execute(\"select * from ineuron3.cricket_team where name = 'India';\")\n",
    "for row in rows:\n",
    "     print ('name: {} captain: {} last_wc_title: {} wc_winning_captain: {} total_title: {}'.format(row[0],row[1], row[2], row[3], row[4]))"
   ]
  },
  {
   "cell_type": "code",
   "execution_count": 59,
   "metadata": {},
   "outputs": [
    {
     "name": "stdout",
     "output_type": "stream",
     "text": [
      "No data found\n"
     ]
    }
   ],
   "source": [
    "session.execute(\"delete from ineuron3.cricket_team where name = 'Pakistan';\")\n",
    "rows=session.execute(\"select * from ineuron3.cricket_team where name = 'Pakistan';\")\n",
    "for row in rows:\n",
    "     print ('name: {} captain: {} last_wc_title: {} wc_winning_captain: {} total_title: {}'.format(row[0],row[1], row[2], row[3], row[4]))\n",
    "else:\n",
    "    print('No data found')    "
   ]
  },
  {
   "cell_type": "code",
   "execution_count": 60,
   "metadata": {},
   "outputs": [
    {
     "name": "stdout",
     "output_type": "stream",
     "text": [
      "name: Sri Lanka captain: Dimuth Karunaratne last_wc_title: 1996 wc_winning_captain: 1 total_title: Ranatunga\n",
      "name: West Indies captain: Kraigg Brathwaite last_wc_title: 1979 wc_winning_captain: 2 total_title: Clive Lloyd\n",
      "name: India captain: Mahendra Singh Dhoni last_wc_title: 2011 wc_winning_captain: 2 total_title: MS Dhoni\n",
      "name: England captain: Eoin Morgan last_wc_title: 2019 wc_winning_captain: 1 total_title: Eoin Morgan\n",
      "name: Australia captain: Aron Finch last_wc_title: 2015 wc_winning_captain: 3 total_title: Michal Clark\n"
     ]
    }
   ],
   "source": [
    "rows=session.execute(\"select *from ineuron3.cricket_team;\")\n",
    "for row in rows:\n",
    "    print ('name: {} captain: {} last_wc_title: {} wc_winning_captain: {} total_title: {}'.format(row[0],row[1], row[2], row[3], row[4]))"
   ]
  },
  {
   "cell_type": "code",
   "execution_count": 61,
   "metadata": {},
   "outputs": [
    {
     "name": "stdout",
     "output_type": "stream",
     "text": [
      "Row(count=5)\n"
     ]
    }
   ],
   "source": [
    "rows=session.execute(\"select count(*) from ineuron3.cricket_team;\")\n",
    "for row in rows:\n",
    "    print(row)"
   ]
  },
  {
   "cell_type": "code",
   "execution_count": 62,
   "metadata": {},
   "outputs": [
    {
     "name": "stdout",
     "output_type": "stream",
     "text": [
      "Row(system_min_total_title=1)\n"
     ]
    }
   ],
   "source": [
    "rows=session.execute(\"select MIN(total_title) from ineuron3.cricket_team;\")\n",
    "for row in rows:\n",
    "    print(row)"
   ]
  },
  {
   "cell_type": "code",
   "execution_count": 64,
   "metadata": {},
   "outputs": [
    {
     "name": "stdout",
     "output_type": "stream",
     "text": [
      "Row(system_max_total_title=3)\n"
     ]
    }
   ],
   "source": [
    "rows=session.execute(\"select MAX(total_title) from ineuron3.cricket_team;\")\n",
    "for row in rows:\n",
    "    print(row)"
   ]
  },
  {
   "cell_type": "code",
   "execution_count": 66,
   "metadata": {},
   "outputs": [
    {
     "name": "stdout",
     "output_type": "stream",
     "text": [
      "Row(system_avg_total_title=1)\n"
     ]
    }
   ],
   "source": [
    "rows=session.execute(\"select AVG(total_title) from ineuron3.cricket_team;\")\n",
    "for row in rows:\n",
    "    print(row)"
   ]
  },
  {
   "cell_type": "code",
   "execution_count": 67,
   "metadata": {},
   "outputs": [
    {
     "name": "stdout",
     "output_type": "stream",
     "text": [
      "Row(system_sum_total_title=9)\n"
     ]
    }
   ],
   "source": [
    "rows=session.execute(\"select SUM(total_title) from ineuron3.cricket_team;\")\n",
    "for row in rows:\n",
    "    print(row)"
   ]
  },
  {
   "cell_type": "code",
   "execution_count": 73,
   "metadata": {},
   "outputs": [
    {
     "name": "stdout",
     "output_type": "stream",
     "text": [
      "name: Australia captain: Aron Finch last_wc_title: 2015 wc_winning_captain: 3 total_title: Michal Clark\n",
      "name: England captain: Eoin Morgan last_wc_title: 2019 wc_winning_captain: 1 total_title: Eoin Morgan\n",
      "name: India captain: Mahendra Singh Dhoni last_wc_title: 2011 wc_winning_captain: 2 total_title: MS Dhoni\n",
      "name: Sri Lanka captain: Dimuth Karunaratne last_wc_title: 1996 wc_winning_captain: 1 total_title: Ranatunga\n",
      "name: West Indies captain: Kraigg Brathwaite last_wc_title: 1979 wc_winning_captain: 2 total_title: Clive Lloyd\n"
     ]
    }
   ],
   "source": [
    "rows=session.execute(\"select * from ineuron3.cricket_team where name in ('India','England','Australia','West Indies','Sri Lanka');\")\n",
    "for row in rows:\n",
    "     print ('name: {} captain: {} last_wc_title: {} wc_winning_captain: {} total_title: {}'.format(row[0],row[1], row[2], row[3], row[4]))"
   ]
  },
  {
   "cell_type": "code",
   "execution_count": null,
   "metadata": {},
   "outputs": [],
   "source": []
  }
 ],
 "metadata": {
  "kernelspec": {
   "display_name": "Python 3",
   "language": "python",
   "name": "python3"
  },
  "language_info": {
   "codemirror_mode": {
    "name": "ipython",
    "version": 3
   },
   "file_extension": ".py",
   "mimetype": "text/x-python",
   "name": "python",
   "nbconvert_exporter": "python",
   "pygments_lexer": "ipython3",
   "version": "3.7.6"
  }
 },
 "nbformat": 4,
 "nbformat_minor": 4
}
